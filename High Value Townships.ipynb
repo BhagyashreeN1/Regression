{
 "cells": [
  {
   "cell_type": "markdown",
   "id": "d992b489",
   "metadata": {},
   "source": [
    "# Prediction Model for High Value Townships in Eastern United States\n",
    "\n",
    "\n",
    "<img src = 'https://nypost.com/wp-content/uploads/sites/2/2022/09/phoenix-skyline-sunset.jpg' />\n",
    "\n",
    "_(Skline of Phoenix - from nypost/Getty images) - Picture for representation purposes only_"
   ]
  },
  {
   "cell_type": "markdown",
   "id": "0024c93b",
   "metadata": {},
   "source": [
    "## Problem Introduction and Motivation\n",
    "\n",
    "_Assuming a made-up scenario in which we have been employed by a large real estate company who wants to invest in good value homes for sale to High Networth Individuals. For the purpose of this scenario, all the parameters are assumed to have been researched and requested for by this ficticious company \"GP Real Estate\"_"
   ]
  },
  {
   "cell_type": "markdown",
   "id": "f1871336",
   "metadata": {},
   "source": [
    "\n",
    "### **Objective and Background**<br>\n",
    "GP Real Estate has been in the business of constructing industrial units and warehouses for large corporates for over 25 years. As the company has grown over the years, as have their clients and client base. Some of their clients are in the computers and computer peripheral products industry which has seen a large demand even during the Covid-19 pandemic. With increasing demans and profits, these companies have been purchasing more industrial properties to increase their production. However, now these promoters (High Networth Individuals) are looking for personal investments in residential properties. During some of their informal meetings, they voiced their interest in investing in good value homes in good neighbourhoods, and that they have been on the look-out for a good real estate company which might help them with their search.\n",
    "The sales team at GP Real Estate realized that they can add a new Residential vertical and pitched this idea to the stakeholders with the backing of a few interested clients. Been given a tentative go-ahead, the company contacted us for developing a model which will help them predict the right kind of townships to establish a new housing development. This which will give them the right entry into the residential game.\n",
    "While GP Real Estate has clients across the nation, the company is headquartered in New York, and has a big chunk of clients who are based in Eastern United States, and looking for investments in the same region.\n",
    "\n",
    "### **Understanding the Data**<br>\n",
    "This is a model for predicting which townships are more likely to have residential houses of higher value.\n",
    "Over the past 2 years, due to the Covid-19 pandemic the job market saw an unprecedented disruption. This also lead to change in the way we work, with many organizations offering the flexibility of 'Work from Home' to counter the spread of and also in response to the Great Resignation. Due to this, more and more individuals are relocating to better localities to achieve their dreams of investing in good homes.\n",
    "This has led to an increase in the value of real estate, especially over the past few months. However, as the demand has increased, the values of all the houses have gone up irrespective of the location and quality of the house.\n",
    "\n",
    "Due to this real estate companies and individual investors are on the look out for quality houses, and hence need relevant data in order to take well informed decisions.\n",
    "\n",
    "There is a great article which dives in deep into the reasons behind the increase in housing prices:\n",
    "https://www.nyrentownsell.com/blog/why-are-houses-so-expensive/\n",
    "\n",
    "An excerpt from the article: _Following the onset of the COVID-19 pandemic, interest rates were reduced to boost economic health. The drastic drop in interest rates, combined with numerous Americans’ desire to abandon apartments and cities in favor of residential areas and lower prices, created an increased demand. In contrast, many sellers withdrew from the market due to political and economic instability. More buyers than sellers have since entered the real estate market, and total house prices have dramatically increased as a result._\n",
    "\n",
    ">Dataset Details:\n",
    "We have the records for roughly 500 “townships” or municipalities in the Eastern United States. We need to use the area characteristics provided in the data to predict whether or not the township is likely to possess a lot of high valued properties.<br>\n",
    "(Typically, townships in the USA refers to a small geographical area)\n",
    "\n",
    "Click here to know more details about townships in the USA: https://www.britannica.com/topic/township \n",
    "\n",
    "This prediction could be helpful for building companies who want to know where to establish a new housing development. Other real-estate ventures would be interested as well.\n",
    "\n",
    "\n",
    "A few things to keep in mind before proceeding with the Prediction Model:\n",
    ">**Target audience**<br>\n",
    ">Apart from GP Real Estate, there are quite a few Real-estate investors and HNIs who would benefit vastly with such a prediction model. If this model works out, our firm can use similar models to pitch to new clients who want to venture into residential housing estate in different parts of the country<br><br>\n",
    ">**Actionables**<br>\n",
    ">Users of this model shall be able to select the right townships for their investments. This will directly impact both their topline as well as bottom line, as the model will be able to help them take quick and informed decisions, suitable for their target audience.<br><br>\n",
    ">**Who are the key stakeholders?**<br>\n",
    ">This model shall be of great use to Real estate companies/ property owners, and high networth investors<br><br>\n",
    ">**Outcome of this Prediction Model**<br>\n",
    ">Using Machine Learning to accurately predict which townships are to be preferred for the objective of finding townships with high value properties. The additional application displayed with the help of streamlit is to showcase the findings in an aesthetic manner.\n"
   ]
  },
  {
   "cell_type": "markdown",
   "id": "301ac033",
   "metadata": {},
   "source": [
    "# Project Dependencies"
   ]
  },
  {
   "cell_type": "code",
   "execution_count": 1,
   "id": "42f4e006",
   "metadata": {},
   "outputs": [],
   "source": [
    "import pandas as pd\n",
    "                                                            # Here we are importing the pandas data analysis library\n",
    "                                                            # into our program. We are assigning pandas as pd to use the Pandas\n",
    "                                                            # library wherever required in the code later\n",
    "            \n",
    "from sklearn.linear_model import LogisticRegression\n",
    "                                                            # Scikit learn is a Machine Learning library, and we are\n",
    "                                                            # particularly importing just the required parts of the library, \n",
    "                                                            # It will eat up our RAM if we import the entire library\n",
    "                                                            \n",
    "                                                            # The linear.model is a class of Scikit learn library/ module\n",
    "                                                            # and we can use it for ML with linear models\n",
    "                                                            \n",
    "                                                            # Logistic Regression is an ML classification technique/ algorithm\n",
    "                                                            # It is used to predict the probability of a \n",
    "                                                            # dependent categorical variable \n",
    "\n",
    "from sklearn.metrics import accuracy_score\n",
    "                                                            # The metrics module measures the classification performance\n",
    "                                                            # It implements several loss, score, and utility functions\n",
    "                                                            # The accuracy_score function calculates the accuracy score\n",
    "                                                            # for a set of predicted labels against the true labels\n",
    "\n",
    "import pickle\n",
    "                                                            # The Python pickle module serializes and deserialize objects\n",
    "                                                            # in binary. Pickling is used to store python objects to a file \n",
    "                                                            # that can be loaded to another program again later\n"
   ]
  },
  {
   "cell_type": "markdown",
   "id": "aaff14cd",
   "metadata": {},
   "source": [
    "# Data Preparation\n",
    "- [ ] Initial Evaluation\n",
    "- [ ] Getting the Predictor and Target Variables\n",
    "- [ ] Modeling - Training the Model\n"
   ]
  },
  {
   "cell_type": "markdown",
   "id": "53f3b79e",
   "metadata": {},
   "source": [
    "><h3>Initial Evaluation </h3>\n",
    "Read in the csv data file and try to understand it"
   ]
  },
  {
   "cell_type": "code",
   "execution_count": 2,
   "id": "69166b1c",
   "metadata": {},
   "outputs": [],
   "source": [
    "df = pd.read_csv('high_value_townships.csv')\n",
    "                                                            # While it is not mandatory, df is the standard term used to store\n",
    "                                                            # dataframes - common jargon\n",
    "                                                            # Here, we are using the read_csv function to read the csv file\n",
    "                                                            # which is our data set \n"
   ]
  },
  {
   "cell_type": "markdown",
   "id": "b04865e6",
   "metadata": {},
   "source": [
    "><h3>Getting the Predictor and Target Variables </h3>\n",
    "Creating X and y to store the predictor variables and the Target variable"
   ]
  },
  {
   "cell_type": "code",
   "execution_count": 3,
   "id": "46590d37",
   "metadata": {},
   "outputs": [],
   "source": [
    "X = df.iloc[:,1:len(df.columns)]\n",
    "                                                            # iloc is integer-location based indexing for selection by position\n",
    "                                                            # Here, we are considering all the rows, however, we are \n",
    "                                                            # excluding the 0th column which contains the Target variable\n",
    "                                                            # which is not a predictor variable\n",
    "                                                            # X is storing the entire predictor variables/ data\n",
    "y = df.iloc[:,0]\n",
    "                                                            # Y is storing the target variable, as we are considering\n",
    "                                                            # only the 0th column\n",
    "model = LogisticRegression(max_iter=800)\n",
    "                                                            # Here, we are storing the function to run logistic regression \n",
    "                                                            # in model, and with max 800 iterations \n"
   ]
  },
  {
   "cell_type": "markdown",
   "id": "16483033",
   "metadata": {},
   "source": [
    "# Modeling\n"
   ]
  },
  {
   "cell_type": "code",
   "execution_count": 4,
   "id": "3a48846a",
   "metadata": {},
   "outputs": [
    {
     "name": "stdout",
     "output_type": "stream",
     "text": [
      "0.9525691699604744\n"
     ]
    }
   ],
   "source": [
    "model.fit(X,y)\n",
    "                                                            # The .fit method is basically training the model\n",
    "predictions = model.predict(X)\n",
    "                                                            # This function helps us predict labels of the data values\n",
    "                                                            # on the basis of the trained model\n",
    "print(accuracy_score(y,predictions))\n",
    "                                                            # Displays the accuracy score based on the target variable and \n",
    "                                                            # predictions\n",
    "pickle_out = open('classifier', mode='wb')\n",
    "                                                            # This opens the file for writing in it. Here we are creating a \n",
    "                                                            # file called as 'Classifier' and we are writing (w) to it in\n",
    "                                                            # a binary (b) mode - for which we have used the mode as 'wb'\n",
    "pickle.dump(model, pickle_out)\n",
    "                                                            # Dump puts the data of the object in a file and returns\n",
    "                                                            # the object in bytes\n",
    "pickle_out.close()\n",
    "                                                            # We close up the file now"
   ]
  },
  {
   "cell_type": "markdown",
   "id": "f2686d6c",
   "metadata": {},
   "source": [
    "#### These are the Predictor variables/ determinants used to predict whether or not the township has a likelihood of having high value homes or not:\n",
    "- Large Lots: The percentage of residential lots which are large in size\n",
    "- Industrial Land: The percentage of the township land which has been zoned for industrial purposes\n",
    "- River Side: Provides details about whether the township is on a river side or not (1 = Yes, 0 = No)\n",
    "- Mean Rooms: The average number of rooms in each of the residential properties\n",
    "- Pupil Teacher Ratio: The number of students per teacher within the township \n",
    "\n",
    "These are the variables that we are considering for now. However, further research can help us determine more relevant datapoints/ predictor variables going forward.\n",
    "A few that come to mind are: Schools in the area (and their fees), presence of high-end shops nearby, Home Owners Association fees\n",
    "\n",
    "#### The likelihood of the township having high value properties is determined by:\n",
    "- Higher percentage of large residential lots\n",
    "- Lower percentage of township land utilized for industrial purposes\n",
    "- Properties would typically be on the riverside\n",
    "- The average number of rooms would be on the higher side\n",
    "- There would be a smaller ratio of students to teachers in the township\n"
   ]
  },
  {
   "cell_type": "markdown",
   "id": "4ff29dc9",
   "metadata": {},
   "source": [
    "><h3>Running the Prediction Model </h3>\n",
    "Using the predictors listed above to use in the Prediction Model"
   ]
  },
  {
   "cell_type": "code",
   "execution_count": 5,
   "id": "ff22aebe",
   "metadata": {},
   "outputs": [
    {
     "name": "stdout",
     "output_type": "stream",
     "text": [
      "Writing app.py\n"
     ]
    }
   ],
   "source": [
    "%%writefile app.py\n",
    "\n",
    "import pickle\n",
    "import streamlit as st\n",
    "\n",
    "pickle_in = open('classifier', 'rb')\n",
    "classifier = pickle.load(pickle_in)\n",
    "\n",
    "@st.cache()\n",
    "\n",
    "# Define the function which will make the prediction using data\n",
    "# inputs from users\n",
    "def prediction(industrial_land, river_side,\n",
    "               mean_rooms, pupil_teacher_ratio, large_lots):\n",
    "    \n",
    "    # Make predictions\n",
    "    prediction = classifier.predict(\n",
    "        [[large_lots, industrial_land, river_side, mean_rooms, pupil_teacher_ratio]])\n",
    "    \n",
    "    if prediction == 0:\n",
    "        pred = 'This township is likely to possess a lot of high valued properties. Research further!'\n",
    "    else:\n",
    "        pred = 'This township will probably not have a lot of high valued properties. Avoid for residential, but can consider for Industrial projects.'\n",
    "    return pred\n",
    "\n",
    "# This is the main function in which we define our webpage\n",
    "def main():\n",
    "    \n",
    "    # Create input fields\n",
    "    \n",
    "    large_lots = st.number_input(\"Residentials lots that are large (%)\",\n",
    "                                  min_value=0,\n",
    "                                  max_value=100,\n",
    "                                  value=5,\n",
    "                                  step=1,\n",
    "                                 )\n",
    "    industrial_land = st.number_input(\"Township land zoned for industrial purposes (%)\",\n",
    "                              min_value=0,\n",
    "                              max_value=100,\n",
    "                              value=5,\n",
    "                              step=1,\n",
    "                             )\n",
    "\n",
    "    river_side = st.number_input(\"Riverside - Yes(1) or No(0)\",\n",
    "                              min_value=0,\n",
    "                              max_value=1,\n",
    "                              value=0,\n",
    "                              step=1\n",
    "                             )\n",
    "    mean_rooms = st.number_input(\"Mean Number of Rooms\",\n",
    "                          min_value=1,\n",
    "                          max_value=10,\n",
    "                          value=2,\n",
    "                          step=1\n",
    "                         )\n",
    "    pupil_teacher_ratio = st.number_input(\"pupil_teacher_ratio\",\n",
    "                          min_value=1,\n",
    "                          max_value=25,\n",
    "                          value=10,\n",
    "                          step=1\n",
    "                         )\n",
    "\n",
    "    result = \"\"\n",
    "    \n",
    "    # When 'Predict' is clicked, make the prediction and store it\n",
    "    if st.button(\"Predict\"):\n",
    "        result = prediction(large_lots, industrial_land, river_side, mean_rooms, pupil_teacher_ratio)\n",
    "        st.success(result)\n",
    "        \n",
    "if __name__=='__main__':\n",
    "    main()"
   ]
  },
  {
   "cell_type": "markdown",
   "id": "451f9491",
   "metadata": {},
   "source": [
    "# Deployment\n",
    "We can now run the application using Streamlit app\n",
    "This application is to showcase the prediction to relevant stakeholders in a visually appealing manner."
   ]
  },
  {
   "cell_type": "code",
   "execution_count": null,
   "id": "5522e88b",
   "metadata": {},
   "outputs": [],
   "source": [
    "!streamlit run app.py"
   ]
  }
 ],
 "metadata": {
  "kernelspec": {
   "display_name": "Python 3 (ipykernel)",
   "language": "python",
   "name": "python3"
  },
  "language_info": {
   "codemirror_mode": {
    "name": "ipython",
    "version": 3
   },
   "file_extension": ".py",
   "mimetype": "text/x-python",
   "name": "python",
   "nbconvert_exporter": "python",
   "pygments_lexer": "ipython3",
   "version": "3.9.12"
  }
 },
 "nbformat": 4,
 "nbformat_minor": 5
}
